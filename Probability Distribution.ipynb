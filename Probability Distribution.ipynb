{
 "cells": [
  {
   "cell_type": "code",
   "execution_count": null,
   "id": "f4af49cd",
   "metadata": {},
   "outputs": [
    {
     "name": "stdout",
     "output_type": "stream",
     "text": [
      "Enter MEAN =799\n",
      "Enter STANDARD DEVIATION=21\n",
      "\n",
      "1.Probability lesser than or equal\n",
      "2.Probability greater than or equal \n",
      "3.Probability between 2 ranges \n",
      "4.Probability of particular value\n",
      "Enter your choice =1\n",
      "Enter the value=820\n",
      "Probability greater than or equal to 820.0 is = 0.8413447460685428\n",
      "Probability in % = 84.13447460685428\n",
      "Do you want to continue yes-1/no-0 =1\n",
      "-------------------------------------------------------------\n",
      "\n",
      "1.Probability lesser than or equal\n",
      "2.Probability greater than or equal \n",
      "3.Probability between 2 ranges \n",
      "4.Probability of particular value\n",
      "Enter your choice =2\n",
      "Enter the value=780\n",
      "Probability greater than or equal to 780.0 is = 0.8172042312175838\n",
      "Probability in % = 81.72042312175837\n",
      "Do you want to continue yes-1/no-0 =1\n",
      "-------------------------------------------------------------\n",
      "\n",
      "1.Probability lesser than or equal\n",
      "2.Probability greater than or equal \n",
      "3.Probability between 2 ranges \n",
      "4.Probability of particular value\n",
      "Enter your choice =3\n",
      "Enter the first value=715\n",
      "Enter the second value=755\n",
      "Probability between 715.0 and  755.0 is = 0.01804324494659637\n",
      "Probability in % = 1.804324494659637\n",
      "Do you want to continue yes-1/no-0 =1\n",
      "-------------------------------------------------------------\n",
      "\n",
      "1.Probability lesser than or equal\n",
      "2.Probability greater than or equal \n",
      "3.Probability between 2 ranges \n",
      "4.Probability of particular value\n",
      "Enter your choice =4\n",
      "Enter the value=810\n",
      "Probability greater than or equal to 810.0 is =0\n",
      "Probability in % =0\n"
     ]
    }
   ],
   "source": [
    "import statistics as s\n",
    "num1=float(input(\"Enter MEAN =\"))\n",
    "num2=float(input(\"Enter STANDARD DEVIATION=\"))\n",
    "nd=s.NormalDist(mu=num1,sigma=num2)\n",
    "con=1\n",
    "while(con==1):\n",
    "    print(\"\\n1.Probability lesser than or equal\\n2.Probability greater than or equal \\n3.Probability between 2 ranges \\n4.Probability of particular value\")\n",
    "    ch=int(input(\"Enter your choice =\"))\n",
    "    if(ch==1):\n",
    "        val1=float(input(\"Enter the value=\"))\n",
    "        n=nd.cdf(val1)\n",
    "        print(\"Probability greater than or equal to\",val1,\"is =\",n)\n",
    "        print(\"Probability in % =\",n*100)\n",
    "    if(ch==2):\n",
    "        val1=float(input(\"Enter the value=\"))\n",
    "        n=nd.cdf(val1)\n",
    "        print(\"Probability greater than or equal to\",val1,\"is =\",1-n)\n",
    "        print(\"Probability in % =\",(1-n)*100)\n",
    "    if(ch==3):\n",
    "        val1=float(input(\"Enter the first value=\"))\n",
    "        val2=float(input(\"Enter the second value=\"))\n",
    "        n=nd.cdf(val2)-nd.cdf(val1)\n",
    "        print(\"Probability between\",val1,\"and \",val2,\"is =\",n)\n",
    "        print(\"Probability in % =\",n*100)\n",
    "    if(ch==4):\n",
    "        val1=float(input(\"Enter the value=\"))\n",
    "        print(\"Probability greater than or equal to\",val1,\"is =0\")\n",
    "        print(\"Probability in % =0\")\n",
    "\n",
    "    con=int(input(\"Do you want to continue yes-1/no-0 =\"))\n",
    "    print(\"-------------------------------------------------------------\")"
   ]
  },
  {
   "cell_type": "code",
   "execution_count": null,
   "id": "30cd3599",
   "metadata": {},
   "outputs": [],
   "source": []
  }
 ],
 "metadata": {
  "kernelspec": {
   "display_name": "Python 3 (ipykernel)",
   "language": "python",
   "name": "python3"
  },
  "language_info": {
   "codemirror_mode": {
    "name": "ipython",
    "version": 3
   },
   "file_extension": ".py",
   "mimetype": "text/x-python",
   "name": "python",
   "nbconvert_exporter": "python",
   "pygments_lexer": "ipython3",
   "version": "3.9.7"
  }
 },
 "nbformat": 4,
 "nbformat_minor": 5
}
